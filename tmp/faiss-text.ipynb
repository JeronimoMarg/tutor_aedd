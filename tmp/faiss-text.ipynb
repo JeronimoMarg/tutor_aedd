{
 "cells": [
  {
   "cell_type": "code",
   "execution_count": 36,
   "id": "2d2ec547-7b0e-4d0b-8243-e140b2995dc2",
   "metadata": {
    "tags": []
   },
   "outputs": [],
   "source": [
    "# ! pip install faiss-cpu\n",
    "# ! pip install sentence-transformers"
   ]
  },
  {
   "cell_type": "code",
   "execution_count": 37,
   "id": "7c136da9-5d53-4a08-bed1-02205cd94de9",
   "metadata": {
    "tags": []
   },
   "outputs": [],
   "source": [
    "import pandas as pd\n",
    "\n",
    "data = [\n",
    "    ['What is the weather like today?', 'general'],\n",
    "    ['Can you provide the latest stock market updates?', 'finance'],\n",
    "    ['Recommend a good Italian restaurant nearby', 'food'],\n",
    "    ['How do I reset my password?', 'tech support'],\n",
    "    ['Tell me a joke', 'entertainment'],\n",
    "    ['What are the symptoms of a flu?', 'health'],\n",
    "    ['Book a flight to New York', 'travel'],\n",
    "    ['How to make a chocolate cake?', 'cooking'],\n",
    "    ['Whats the score in the football game?', 'sports'],\n",
    "    ['Im feeling happy today', 'personal emotion']\n",
    "]\n",
    "\n",
    "df = pd.DataFrame(data, columns=['text', 'category'])"
   ]
  },
  {
   "cell_type": "code",
   "execution_count": 38,
   "id": "3a005b88-2a89-4209-8c1c-64897643de0f",
   "metadata": {},
   "outputs": [
    {
     "data": {
      "text/html": [
       "<div>\n",
       "<style scoped>\n",
       "    .dataframe tbody tr th:only-of-type {\n",
       "        vertical-align: middle;\n",
       "    }\n",
       "\n",
       "    .dataframe tbody tr th {\n",
       "        vertical-align: top;\n",
       "    }\n",
       "\n",
       "    .dataframe thead th {\n",
       "        text-align: right;\n",
       "    }\n",
       "</style>\n",
       "<table border=\"1\" class=\"dataframe\">\n",
       "  <thead>\n",
       "    <tr style=\"text-align: right;\">\n",
       "      <th></th>\n",
       "      <th>text</th>\n",
       "      <th>category</th>\n",
       "    </tr>\n",
       "  </thead>\n",
       "  <tbody>\n",
       "    <tr>\n",
       "      <th>0</th>\n",
       "      <td>What is the weather like today?</td>\n",
       "      <td>general</td>\n",
       "    </tr>\n",
       "    <tr>\n",
       "      <th>1</th>\n",
       "      <td>Can you provide the latest stock market updates?</td>\n",
       "      <td>finance</td>\n",
       "    </tr>\n",
       "    <tr>\n",
       "      <th>2</th>\n",
       "      <td>Recommend a good Italian restaurant nearby</td>\n",
       "      <td>food</td>\n",
       "    </tr>\n",
       "    <tr>\n",
       "      <th>3</th>\n",
       "      <td>How do I reset my password?</td>\n",
       "      <td>tech support</td>\n",
       "    </tr>\n",
       "    <tr>\n",
       "      <th>4</th>\n",
       "      <td>Tell me a joke</td>\n",
       "      <td>entertainment</td>\n",
       "    </tr>\n",
       "  </tbody>\n",
       "</table>\n",
       "</div>"
      ],
      "text/plain": [
       "                                               text       category\n",
       "0                   What is the weather like today?        general\n",
       "1  Can you provide the latest stock market updates?        finance\n",
       "2        Recommend a good Italian restaurant nearby           food\n",
       "3                       How do I reset my password?   tech support\n",
       "4                                    Tell me a joke  entertainment"
      ]
     },
     "execution_count": 38,
     "metadata": {},
     "output_type": "execute_result"
    }
   ],
   "source": [
    "df.head()"
   ]
  },
  {
   "cell_type": "code",
   "execution_count": 39,
   "id": "aa9605fd-96bf-4a12-9e60-e433b2db463a",
   "metadata": {
    "tags": []
   },
   "outputs": [],
   "source": [
    "from sentence_transformers import SentenceTransformer\n",
    "\n",
    "text = df['text']\n",
    "encoder = SentenceTransformer(\"all-MiniLM-L6-v2\") # bert-base-nli-mean-tokens\n",
    "embeddings = encoder.encode(text)"
   ]
  },
  {
   "cell_type": "code",
   "execution_count": 40,
   "id": "412bc8f9-48ea-46b9-8369-474841cf2ce4",
   "metadata": {},
   "outputs": [
    {
     "data": {
      "text/plain": [
       "array([[-0.012624  ,  0.08003415,  0.09423502, ..., -0.03670825,\n",
       "        -0.09059889,  0.08449958],\n",
       "       [-0.06442488, -0.09994825, -0.03145118, ..., -0.07344458,\n",
       "        -0.02472275,  0.08827781],\n",
       "       [ 0.00053615, -0.06311494, -0.00453773, ...,  0.04127972,\n",
       "        -0.04612362, -0.02178323],\n",
       "       ...,\n",
       "       [ 0.02674654, -0.00528526, -0.00051772, ...,  0.07035551,\n",
       "        -0.00339402, -0.0686302 ],\n",
       "       [-0.02478378,  0.08220543, -0.11459267, ...,  0.04581705,\n",
       "         0.06962496, -0.03422027],\n",
       "       [-0.03293536,  0.01706161,  0.03045648, ...,  0.01220749,\n",
       "         0.00780816, -0.00868332]], shape=(10, 384), dtype=float32)"
      ]
     },
     "execution_count": 40,
     "metadata": {},
     "output_type": "execute_result"
    }
   ],
   "source": [
    "embeddings"
   ]
  },
  {
   "cell_type": "code",
   "execution_count": 41,
   "id": "ef4d9de8-38ea-472f-a401-f46a355b9090",
   "metadata": {},
   "outputs": [
    {
     "data": {
      "text/plain": [
       "(10, 384)"
      ]
     },
     "execution_count": 41,
     "metadata": {},
     "output_type": "execute_result"
    }
   ],
   "source": [
    "embeddings.shape"
   ]
  },
  {
   "cell_type": "code",
   "execution_count": 42,
   "id": "6146e983-74ed-491e-9c55-30ea0b96d4fa",
   "metadata": {},
   "outputs": [],
   "source": [
    "import faiss\n",
    "import numpy as np\n",
    "vector_dimensions = embeddings.shape[1]\n",
    "\n",
    "base_index = faiss.IndexFlatL2(vector_dimensions)\n",
    "index = faiss.IndexIDMap(base_index)\n",
    "faiss.normalize_L2(embeddings)\n",
    "index.add_with_ids(embeddings, np.array([100, 101, 102, 103, 104, 105, 106, 107, 108, 109]))"
   ]
  },
  {
   "cell_type": "code",
   "execution_count": 43,
   "id": "5145c8b4-6178-4de3-8260-14992d6ee58f",
   "metadata": {},
   "outputs": [],
   "source": [
    "import numpy as np\n",
    "\n",
    "search_text = '≈y'\n",
    "search_vector = encoder.encode(search_text)\n",
    "new_vector = np.array([search_vector])\n",
    "faiss.normalize_L2(new_vector)"
   ]
  },
  {
   "cell_type": "code",
   "execution_count": 44,
   "id": "cb48139f-826f-4e40-974b-a2629de05e8a",
   "metadata": {},
   "outputs": [],
   "source": [
    "distances,ann = index.search(new_vector,k=4)\n",
    "results = pd.DataFrame({'distances': distances[0], 'ann': ann[0]})\n",
    "df_merged = pd.merge(results,df,left_on='ann',right_index=True)"
   ]
  },
  {
   "cell_type": "code",
   "execution_count": null,
   "id": "e46851c4-f084-4c5a-a8b3-b2d5cd33afec",
   "metadata": {},
   "outputs": [
    {
     "data": {
      "text/html": [
       "<div>\n",
       "<style scoped>\n",
       "    .dataframe tbody tr th:only-of-type {\n",
       "        vertical-align: middle;\n",
       "    }\n",
       "\n",
       "    .dataframe tbody tr th {\n",
       "        vertical-align: top;\n",
       "    }\n",
       "\n",
       "    .dataframe thead th {\n",
       "        text-align: right;\n",
       "    }\n",
       "</style>\n",
       "<table border=\"1\" class=\"dataframe\">\n",
       "  <thead>\n",
       "    <tr style=\"text-align: right;\">\n",
       "      <th></th>\n",
       "      <th>distances</th>\n",
       "      <th>ann</th>\n",
       "      <th>text</th>\n",
       "      <th>category</th>\n",
       "    </tr>\n",
       "  </thead>\n",
       "  <tbody>\n",
       "  </tbody>\n",
       "</table>\n",
       "</div>"
      ],
      "text/plain": [
       "Empty DataFrame\n",
       "Columns: [distances, ann, text, category]\n",
       "Index: []"
      ]
     },
     "execution_count": 45,
     "metadata": {},
     "output_type": "execute_result"
    }
   ],
   "source": [
    "results.head()"
   ]
  },
  {
   "cell_type": "code",
   "execution_count": null,
   "id": "c2c2b904-a6f4-4734-b8b9-ca116924ee4f",
   "metadata": {},
   "outputs": [],
   "source": []
  },
  {
   "cell_type": "code",
   "execution_count": null,
   "id": "9b3ed369-355c-490a-a561-12c0fdc6e6c6",
   "metadata": {},
   "outputs": [],
   "source": []
  }
 ],
 "metadata": {
  "environment": {
   "kernel": "python3",
   "name": "tf2-cpu.2-11.m112",
   "type": "gcloud",
   "uri": "gcr.io/deeplearning-platform-release/tf2-cpu.2-11:m112"
  },
  "kernelspec": {
   "display_name": ".venv",
   "language": "python",
   "name": "python3"
  },
  "language_info": {
   "codemirror_mode": {
    "name": "ipython",
    "version": 3
   },
   "file_extension": ".py",
   "mimetype": "text/x-python",
   "name": "python",
   "nbconvert_exporter": "python",
   "pygments_lexer": "ipython3",
   "version": "3.11.2"
  }
 },
 "nbformat": 4,
 "nbformat_minor": 5
}
